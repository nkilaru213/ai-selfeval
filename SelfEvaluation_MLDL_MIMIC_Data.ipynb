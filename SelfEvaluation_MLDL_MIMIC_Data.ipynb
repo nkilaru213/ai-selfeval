{
  "cells": [
    {
      "cell_type": "markdown",
      "metadata": {
        "id": "view-in-github",
        "colab_type": "text"
      },
      "source": [
        "<a href=\"https://colab.research.google.com/github/nkilaru213/ai-selfeval/blob/main/SelfEvaluation_MLDL_MIMIC_Data.ipynb\" target=\"_parent\"><img src=\"https://colab.research.google.com/assets/colab-badge.svg\" alt=\"Open In Colab\"/></a>"
      ]
    },
    {
      "cell_type": "markdown",
      "metadata": {
        "id": "MYiS8P9dCr69"
      },
      "source": [
        "# **Load Data MIMIC health data tables**"
      ]
    },
    {
      "cell_type": "code",
      "execution_count": 4,
      "metadata": {
        "id": "unY4fcmc8ktW"
      },
      "outputs": [],
      "source": [
        "# import all the packages needed\n",
        "import pandas as pd\n",
        "from google.colab import files"
      ]
    },
    {
      "cell_type": "code",
      "execution_count": 2,
      "metadata": {
        "colab": {
          "base_uri": "https://localhost:8080/"
        },
        "id": "7ntF-07sKBZk",
        "outputId": "1a80c805-d903-4c7a-e780-70c41cc8e714"
      },
      "outputs": [
        {
          "output_type": "stream",
          "name": "stdout",
          "text": [
            "Mounted at /content/drive\n"
          ]
        }
      ],
      "source": [
        "# Connect the the drive to access the google drive file system\n",
        "from google.colab import drive\n",
        "drive.mount('/content/drive')"
      ]
    },
    {
      "cell_type": "code",
      "execution_count": 5,
      "metadata": {
        "id": "S8nX-b33WcGv",
        "colab": {
          "base_uri": "https://localhost:8080/"
        },
        "outputId": "cf7f26bb-8e49-445b-e4c6-13e279d1b9e8"
      },
      "outputs": [
        {
          "output_type": "stream",
          "name": "stdout",
          "text": [
            "Number of admissions 129\n",
            "<class 'pandas.core.frame.DataFrame'>\n",
            "RangeIndex: 129 entries, 0 to 128\n",
            "Data columns (total 19 columns):\n",
            " #   Column                Non-Null Count  Dtype \n",
            "---  ------                --------------  ----- \n",
            " 0   row_id                129 non-null    int64 \n",
            " 1   subject_id            129 non-null    int64 \n",
            " 2   hadm_id               129 non-null    int64 \n",
            " 3   admittime             129 non-null    object\n",
            " 4   dischtime             129 non-null    object\n",
            " 5   deathtime             40 non-null     object\n",
            " 6   admission_type        129 non-null    object\n",
            " 7   admission_location    129 non-null    object\n",
            " 8   discharge_location    129 non-null    object\n",
            " 9   insurance             129 non-null    object\n",
            " 10  language              81 non-null     object\n",
            " 11  religion              128 non-null    object\n",
            " 12  marital_status        113 non-null    object\n",
            " 13  ethnicity             129 non-null    object\n",
            " 14  edregtime             92 non-null     object\n",
            " 15  edouttime             92 non-null     object\n",
            " 16  diagnosis             129 non-null    object\n",
            " 17  hospital_expire_flag  129 non-null    int64 \n",
            " 18  has_chartevents_data  129 non-null    int64 \n",
            "dtypes: int64(5), object(14)\n",
            "memory usage: 19.3+ KB\n",
            "<class 'pandas.core.frame.DataFrame'>\n",
            "RangeIndex: 100 entries, 0 to 99\n",
            "Data columns (total 8 columns):\n",
            " #   Column       Non-Null Count  Dtype \n",
            "---  ------       --------------  ----- \n",
            " 0   row_id       100 non-null    int64 \n",
            " 1   subject_id   100 non-null    int64 \n",
            " 2   gender       100 non-null    object\n",
            " 3   dob          100 non-null    object\n",
            " 4   dod          100 non-null    object\n",
            " 5   dod_hosp     70 non-null     object\n",
            " 6   dod_ssn      77 non-null     object\n",
            " 7   expire_flag  100 non-null    int64 \n",
            "dtypes: int64(3), object(5)\n",
            "memory usage: 6.4+ KB\n",
            "<class 'pandas.core.frame.DataFrame'>\n",
            "RangeIndex: 10398 entries, 0 to 10397\n",
            "Data columns (total 19 columns):\n",
            " #   Column             Non-Null Count  Dtype  \n",
            "---  ------             --------------  -----  \n",
            " 0   row_id             10398 non-null  int64  \n",
            " 1   subject_id         10398 non-null  int64  \n",
            " 2   hadm_id            10398 non-null  int64  \n",
            " 3   icustay_id         7046 non-null   float64\n",
            " 4   startdate          10398 non-null  object \n",
            " 5   enddate            10397 non-null  object \n",
            " 6   drug_type          10398 non-null  object \n",
            " 7   drug               10398 non-null  object \n",
            " 8   drug_name_poe      5766 non-null   object \n",
            " 9   drug_name_generic  5772 non-null   object \n",
            " 10  formulary_drug_cd  10397 non-null  object \n",
            " 11  gsn                9122 non-null   float64\n",
            " 12  ndc                10397 non-null  float64\n",
            " 13  prod_strength      10398 non-null  object \n",
            " 14  dose_val_rx        10398 non-null  object \n",
            " 15  dose_unit_rx       10398 non-null  object \n",
            " 16  form_val_disp      10398 non-null  object \n",
            " 17  form_unit_disp     10397 non-null  object \n",
            " 18  route              10398 non-null  object \n",
            "dtypes: float64(3), int64(3), object(13)\n",
            "memory usage: 1.5+ MB\n",
            "<class 'pandas.core.frame.DataFrame'>\n",
            "RangeIndex: 136 entries, 0 to 135\n",
            "Data columns (total 12 columns):\n",
            " #   Column          Non-Null Count  Dtype  \n",
            "---  ------          --------------  -----  \n",
            " 0   row_id          136 non-null    int64  \n",
            " 1   subject_id      136 non-null    int64  \n",
            " 2   hadm_id         136 non-null    int64  \n",
            " 3   icustay_id      136 non-null    int64  \n",
            " 4   dbsource        136 non-null    object \n",
            " 5   first_careunit  136 non-null    object \n",
            " 6   last_careunit   136 non-null    object \n",
            " 7   first_wardid    136 non-null    int64  \n",
            " 8   last_wardid     136 non-null    int64  \n",
            " 9   intime          136 non-null    object \n",
            " 10  outtime         136 non-null    object \n",
            " 11  los             136 non-null    float64\n",
            "dtypes: float64(1), int64(6), object(5)\n",
            "memory usage: 12.9+ KB\n",
            "<class 'pandas.core.frame.DataFrame'>\n",
            "RangeIndex: 524 entries, 0 to 523\n",
            "Data columns (total 13 columns):\n",
            " #   Column         Non-Null Count  Dtype  \n",
            "---  ------         --------------  -----  \n",
            " 0   row_id         524 non-null    int64  \n",
            " 1   subject_id     524 non-null    int64  \n",
            " 2   hadm_id        524 non-null    int64  \n",
            " 3   icustay_id     167 non-null    float64\n",
            " 4   dbsource       524 non-null    object \n",
            " 5   eventtype      524 non-null    object \n",
            " 6   prev_careunit  167 non-null    object \n",
            " 7   curr_careunit  167 non-null    object \n",
            " 8   prev_wardid    395 non-null    float64\n",
            " 9   curr_wardid    395 non-null    float64\n",
            " 10  intime         524 non-null    object \n",
            " 11  outtime        395 non-null    object \n",
            " 12  los            395 non-null    float64\n",
            "dtypes: float64(4), int64(3), object(6)\n",
            "memory usage: 53.3+ KB\n"
          ]
        }
      ],
      "source": [
        "# Load tables\n",
        "\n",
        "# Read ADMISSIONS data table from google drive file system\n",
        "#admissions_df=pd.read_csv('/content/drive/My Drive/Exercises/ADMISSIONS.csv.gz', compression='gzip')\n",
        "admissions_df=pd.read_csv('/content/drive/My Drive/Exercises/ADMISSIONS.csv')\n",
        "\n",
        "\n",
        "num_records = len(admissions_df)\n",
        "print(\"Number of admissions\", num_records)\n",
        "\n",
        "# Read PATIENTS data table from google drive file system\n",
        "#patients_df=pd.read_csv('/content/drive/My Drive/Exercises/PATIENTS.csv.gz', compression='gzip')\n",
        "patients_df=pd.read_csv('/content/drive/My Drive/Exercises/PATIENTS.csv')\n",
        "\n",
        "\n",
        "num_records = len(patients_df)\n",
        "\n",
        "\n",
        "# Read PRESCRIPTIONS data table from google drive file system\n",
        "#prescriptions_df=pd.read_csv('/content/drive/My Drive/Exercises/PRESCRIPTIONS.csv.gz', compression='gzip')\n",
        "prescriptions_df=pd.read_csv('/content/drive/My Drive/Exercises/PRESCRIPTIONS.csv')\n",
        "\n",
        "\n",
        "\n",
        "# Read ICU_STAYS data table from google drive file system\n",
        "#icustays_df=pd.read_csv('/content/drive/My Drive/Exercises/ICUSTAYS.csv.gz', compression='gzip')\n",
        "icustays_df=pd.read_csv('/content/drive/My Drive/Exercises/ICUSTAYS.csv')\n",
        "\n",
        "\n",
        "\n",
        "# Read TRANSFERS data table from google drive file system\n",
        "#transfers_df=pd.read_csv('/content/drive/My Drive/Exercises/TRANSFERS.csv.gz', compression='gzip')\n",
        "transfers_df=pd.read_csv('/content/drive/My Drive/Exercises/TRANSFERS.csv')\n",
        "\n",
        "\n",
        "# Display ADMISSIONS table info\n",
        "admissions_df.info()\n",
        "\n",
        "# Display ADMISSIONS table info\n",
        "patients_df.info()\n",
        "\n",
        "# Display ADMISSIONS table info\n",
        "prescriptions_df.info()\n",
        "\n",
        "# Display ADMISSIONS table info\n",
        "icustays_df.info()\n",
        "\n",
        "# Display ADMISSIONS table info\n",
        "transfers_df.info()"
      ]
    },
    {
      "cell_type": "markdown",
      "source": [
        "***Tables***\n",
        "\n",
        "**admissions**  : Stores patient hospital admission details (time of admission, type, location, insurance, diagnosis, etc.)\n",
        "\n",
        "**patients** : Contains demographic details (gender, birth date, death date, expiration flag).\n",
        "\n",
        "**prescriptions** : Contains medication details (drug type, dosage, route, start & end dates).\n",
        "\n",
        "**icustays** : Stores ICU admissions (care units, length of stay, entry/exit times).\n",
        "\n",
        "**transfers** : Records patient movements between hospital units (previous/current ward).\n",
        "\n"
      ],
      "metadata": {
        "id": "8LCvXr7ik6E3"
      }
    },
    {
      "cell_type": "code",
      "source": [
        "# Display few rows from each dataframe\n",
        "admissions_df.head()\n",
        "patients_df.head()\n",
        "prescriptions_df.head()\n",
        "icustays_df.head()\n",
        "transfers_df.head()"
      ],
      "metadata": {
        "colab": {
          "base_uri": "https://localhost:8080/",
          "height": 400
        },
        "id": "UdmBtNrDp-m1",
        "outputId": "8ab0a45d-0c1a-46fc-9c43-8ec3b0df9754"
      },
      "execution_count": 6,
      "outputs": [
        {
          "output_type": "execute_result",
          "data": {
            "text/plain": [
              "   row_id  subject_id  hadm_id  icustay_id dbsource  eventtype prev_careunit  \\\n",
              "0   54440       10006   142345    206504.0  carevue      admit           NaN   \n",
              "1   54441       10006   142345         NaN  carevue   transfer          MICU   \n",
              "2   54442       10006   142345         NaN  carevue  discharge           NaN   \n",
              "3   54460       10011   105331    232110.0  carevue      admit           NaN   \n",
              "4   54461       10011   105331         NaN  carevue  discharge          MICU   \n",
              "\n",
              "  curr_careunit  prev_wardid  curr_wardid               intime  \\\n",
              "0          MICU          NaN         52.0  2164-10-23 21:10:15   \n",
              "1           NaN         52.0         45.0  2164-10-25 12:21:07   \n",
              "2           NaN         45.0          NaN  2164-11-01 17:14:27   \n",
              "3          MICU          NaN         15.0  2126-08-14 22:34:00   \n",
              "4           NaN         15.0          NaN  2126-08-28 18:59:00   \n",
              "\n",
              "               outtime     los  \n",
              "0  2164-10-25 12:21:07   39.18  \n",
              "1  2164-11-01 17:14:27  172.89  \n",
              "2                  NaN     NaN  \n",
              "3  2126-08-28 18:59:00  332.42  \n",
              "4                  NaN     NaN  "
            ],
            "text/html": [
              "\n",
              "  <div id=\"df-8dd21793-47b8-4610-966f-009882da04b3\" class=\"colab-df-container\">\n",
              "    <div>\n",
              "<style scoped>\n",
              "    .dataframe tbody tr th:only-of-type {\n",
              "        vertical-align: middle;\n",
              "    }\n",
              "\n",
              "    .dataframe tbody tr th {\n",
              "        vertical-align: top;\n",
              "    }\n",
              "\n",
              "    .dataframe thead th {\n",
              "        text-align: right;\n",
              "    }\n",
              "</style>\n",
              "<table border=\"1\" class=\"dataframe\">\n",
              "  <thead>\n",
              "    <tr style=\"text-align: right;\">\n",
              "      <th></th>\n",
              "      <th>row_id</th>\n",
              "      <th>subject_id</th>\n",
              "      <th>hadm_id</th>\n",
              "      <th>icustay_id</th>\n",
              "      <th>dbsource</th>\n",
              "      <th>eventtype</th>\n",
              "      <th>prev_careunit</th>\n",
              "      <th>curr_careunit</th>\n",
              "      <th>prev_wardid</th>\n",
              "      <th>curr_wardid</th>\n",
              "      <th>intime</th>\n",
              "      <th>outtime</th>\n",
              "      <th>los</th>\n",
              "    </tr>\n",
              "  </thead>\n",
              "  <tbody>\n",
              "    <tr>\n",
              "      <th>0</th>\n",
              "      <td>54440</td>\n",
              "      <td>10006</td>\n",
              "      <td>142345</td>\n",
              "      <td>206504.0</td>\n",
              "      <td>carevue</td>\n",
              "      <td>admit</td>\n",
              "      <td>NaN</td>\n",
              "      <td>MICU</td>\n",
              "      <td>NaN</td>\n",
              "      <td>52.0</td>\n",
              "      <td>2164-10-23 21:10:15</td>\n",
              "      <td>2164-10-25 12:21:07</td>\n",
              "      <td>39.18</td>\n",
              "    </tr>\n",
              "    <tr>\n",
              "      <th>1</th>\n",
              "      <td>54441</td>\n",
              "      <td>10006</td>\n",
              "      <td>142345</td>\n",
              "      <td>NaN</td>\n",
              "      <td>carevue</td>\n",
              "      <td>transfer</td>\n",
              "      <td>MICU</td>\n",
              "      <td>NaN</td>\n",
              "      <td>52.0</td>\n",
              "      <td>45.0</td>\n",
              "      <td>2164-10-25 12:21:07</td>\n",
              "      <td>2164-11-01 17:14:27</td>\n",
              "      <td>172.89</td>\n",
              "    </tr>\n",
              "    <tr>\n",
              "      <th>2</th>\n",
              "      <td>54442</td>\n",
              "      <td>10006</td>\n",
              "      <td>142345</td>\n",
              "      <td>NaN</td>\n",
              "      <td>carevue</td>\n",
              "      <td>discharge</td>\n",
              "      <td>NaN</td>\n",
              "      <td>NaN</td>\n",
              "      <td>45.0</td>\n",
              "      <td>NaN</td>\n",
              "      <td>2164-11-01 17:14:27</td>\n",
              "      <td>NaN</td>\n",
              "      <td>NaN</td>\n",
              "    </tr>\n",
              "    <tr>\n",
              "      <th>3</th>\n",
              "      <td>54460</td>\n",
              "      <td>10011</td>\n",
              "      <td>105331</td>\n",
              "      <td>232110.0</td>\n",
              "      <td>carevue</td>\n",
              "      <td>admit</td>\n",
              "      <td>NaN</td>\n",
              "      <td>MICU</td>\n",
              "      <td>NaN</td>\n",
              "      <td>15.0</td>\n",
              "      <td>2126-08-14 22:34:00</td>\n",
              "      <td>2126-08-28 18:59:00</td>\n",
              "      <td>332.42</td>\n",
              "    </tr>\n",
              "    <tr>\n",
              "      <th>4</th>\n",
              "      <td>54461</td>\n",
              "      <td>10011</td>\n",
              "      <td>105331</td>\n",
              "      <td>NaN</td>\n",
              "      <td>carevue</td>\n",
              "      <td>discharge</td>\n",
              "      <td>MICU</td>\n",
              "      <td>NaN</td>\n",
              "      <td>15.0</td>\n",
              "      <td>NaN</td>\n",
              "      <td>2126-08-28 18:59:00</td>\n",
              "      <td>NaN</td>\n",
              "      <td>NaN</td>\n",
              "    </tr>\n",
              "  </tbody>\n",
              "</table>\n",
              "</div>\n",
              "    <div class=\"colab-df-buttons\">\n",
              "\n",
              "  <div class=\"colab-df-container\">\n",
              "    <button class=\"colab-df-convert\" onclick=\"convertToInteractive('df-8dd21793-47b8-4610-966f-009882da04b3')\"\n",
              "            title=\"Convert this dataframe to an interactive table.\"\n",
              "            style=\"display:none;\">\n",
              "\n",
              "  <svg xmlns=\"http://www.w3.org/2000/svg\" height=\"24px\" viewBox=\"0 -960 960 960\">\n",
              "    <path d=\"M120-120v-720h720v720H120Zm60-500h600v-160H180v160Zm220 220h160v-160H400v160Zm0 220h160v-160H400v160ZM180-400h160v-160H180v160Zm440 0h160v-160H620v160ZM180-180h160v-160H180v160Zm440 0h160v-160H620v160Z\"/>\n",
              "  </svg>\n",
              "    </button>\n",
              "\n",
              "  <style>\n",
              "    .colab-df-container {\n",
              "      display:flex;\n",
              "      gap: 12px;\n",
              "    }\n",
              "\n",
              "    .colab-df-convert {\n",
              "      background-color: #E8F0FE;\n",
              "      border: none;\n",
              "      border-radius: 50%;\n",
              "      cursor: pointer;\n",
              "      display: none;\n",
              "      fill: #1967D2;\n",
              "      height: 32px;\n",
              "      padding: 0 0 0 0;\n",
              "      width: 32px;\n",
              "    }\n",
              "\n",
              "    .colab-df-convert:hover {\n",
              "      background-color: #E2EBFA;\n",
              "      box-shadow: 0px 1px 2px rgba(60, 64, 67, 0.3), 0px 1px 3px 1px rgba(60, 64, 67, 0.15);\n",
              "      fill: #174EA6;\n",
              "    }\n",
              "\n",
              "    .colab-df-buttons div {\n",
              "      margin-bottom: 4px;\n",
              "    }\n",
              "\n",
              "    [theme=dark] .colab-df-convert {\n",
              "      background-color: #3B4455;\n",
              "      fill: #D2E3FC;\n",
              "    }\n",
              "\n",
              "    [theme=dark] .colab-df-convert:hover {\n",
              "      background-color: #434B5C;\n",
              "      box-shadow: 0px 1px 3px 1px rgba(0, 0, 0, 0.15);\n",
              "      filter: drop-shadow(0px 1px 2px rgba(0, 0, 0, 0.3));\n",
              "      fill: #FFFFFF;\n",
              "    }\n",
              "  </style>\n",
              "\n",
              "    <script>\n",
              "      const buttonEl =\n",
              "        document.querySelector('#df-8dd21793-47b8-4610-966f-009882da04b3 button.colab-df-convert');\n",
              "      buttonEl.style.display =\n",
              "        google.colab.kernel.accessAllowed ? 'block' : 'none';\n",
              "\n",
              "      async function convertToInteractive(key) {\n",
              "        const element = document.querySelector('#df-8dd21793-47b8-4610-966f-009882da04b3');\n",
              "        const dataTable =\n",
              "          await google.colab.kernel.invokeFunction('convertToInteractive',\n",
              "                                                    [key], {});\n",
              "        if (!dataTable) return;\n",
              "\n",
              "        const docLinkHtml = 'Like what you see? Visit the ' +\n",
              "          '<a target=\"_blank\" href=https://colab.research.google.com/notebooks/data_table.ipynb>data table notebook</a>'\n",
              "          + ' to learn more about interactive tables.';\n",
              "        element.innerHTML = '';\n",
              "        dataTable['output_type'] = 'display_data';\n",
              "        await google.colab.output.renderOutput(dataTable, element);\n",
              "        const docLink = document.createElement('div');\n",
              "        docLink.innerHTML = docLinkHtml;\n",
              "        element.appendChild(docLink);\n",
              "      }\n",
              "    </script>\n",
              "  </div>\n",
              "\n",
              "\n",
              "<div id=\"df-4983d727-9316-4c1d-a292-41042510a31b\">\n",
              "  <button class=\"colab-df-quickchart\" onclick=\"quickchart('df-4983d727-9316-4c1d-a292-41042510a31b')\"\n",
              "            title=\"Suggest charts\"\n",
              "            style=\"display:none;\">\n",
              "\n",
              "<svg xmlns=\"http://www.w3.org/2000/svg\" height=\"24px\"viewBox=\"0 0 24 24\"\n",
              "     width=\"24px\">\n",
              "    <g>\n",
              "        <path d=\"M19 3H5c-1.1 0-2 .9-2 2v14c0 1.1.9 2 2 2h14c1.1 0 2-.9 2-2V5c0-1.1-.9-2-2-2zM9 17H7v-7h2v7zm4 0h-2V7h2v10zm4 0h-2v-4h2v4z\"/>\n",
              "    </g>\n",
              "</svg>\n",
              "  </button>\n",
              "\n",
              "<style>\n",
              "  .colab-df-quickchart {\n",
              "      --bg-color: #E8F0FE;\n",
              "      --fill-color: #1967D2;\n",
              "      --hover-bg-color: #E2EBFA;\n",
              "      --hover-fill-color: #174EA6;\n",
              "      --disabled-fill-color: #AAA;\n",
              "      --disabled-bg-color: #DDD;\n",
              "  }\n",
              "\n",
              "  [theme=dark] .colab-df-quickchart {\n",
              "      --bg-color: #3B4455;\n",
              "      --fill-color: #D2E3FC;\n",
              "      --hover-bg-color: #434B5C;\n",
              "      --hover-fill-color: #FFFFFF;\n",
              "      --disabled-bg-color: #3B4455;\n",
              "      --disabled-fill-color: #666;\n",
              "  }\n",
              "\n",
              "  .colab-df-quickchart {\n",
              "    background-color: var(--bg-color);\n",
              "    border: none;\n",
              "    border-radius: 50%;\n",
              "    cursor: pointer;\n",
              "    display: none;\n",
              "    fill: var(--fill-color);\n",
              "    height: 32px;\n",
              "    padding: 0;\n",
              "    width: 32px;\n",
              "  }\n",
              "\n",
              "  .colab-df-quickchart:hover {\n",
              "    background-color: var(--hover-bg-color);\n",
              "    box-shadow: 0 1px 2px rgba(60, 64, 67, 0.3), 0 1px 3px 1px rgba(60, 64, 67, 0.15);\n",
              "    fill: var(--button-hover-fill-color);\n",
              "  }\n",
              "\n",
              "  .colab-df-quickchart-complete:disabled,\n",
              "  .colab-df-quickchart-complete:disabled:hover {\n",
              "    background-color: var(--disabled-bg-color);\n",
              "    fill: var(--disabled-fill-color);\n",
              "    box-shadow: none;\n",
              "  }\n",
              "\n",
              "  .colab-df-spinner {\n",
              "    border: 2px solid var(--fill-color);\n",
              "    border-color: transparent;\n",
              "    border-bottom-color: var(--fill-color);\n",
              "    animation:\n",
              "      spin 1s steps(1) infinite;\n",
              "  }\n",
              "\n",
              "  @keyframes spin {\n",
              "    0% {\n",
              "      border-color: transparent;\n",
              "      border-bottom-color: var(--fill-color);\n",
              "      border-left-color: var(--fill-color);\n",
              "    }\n",
              "    20% {\n",
              "      border-color: transparent;\n",
              "      border-left-color: var(--fill-color);\n",
              "      border-top-color: var(--fill-color);\n",
              "    }\n",
              "    30% {\n",
              "      border-color: transparent;\n",
              "      border-left-color: var(--fill-color);\n",
              "      border-top-color: var(--fill-color);\n",
              "      border-right-color: var(--fill-color);\n",
              "    }\n",
              "    40% {\n",
              "      border-color: transparent;\n",
              "      border-right-color: var(--fill-color);\n",
              "      border-top-color: var(--fill-color);\n",
              "    }\n",
              "    60% {\n",
              "      border-color: transparent;\n",
              "      border-right-color: var(--fill-color);\n",
              "    }\n",
              "    80% {\n",
              "      border-color: transparent;\n",
              "      border-right-color: var(--fill-color);\n",
              "      border-bottom-color: var(--fill-color);\n",
              "    }\n",
              "    90% {\n",
              "      border-color: transparent;\n",
              "      border-bottom-color: var(--fill-color);\n",
              "    }\n",
              "  }\n",
              "</style>\n",
              "\n",
              "  <script>\n",
              "    async function quickchart(key) {\n",
              "      const quickchartButtonEl =\n",
              "        document.querySelector('#' + key + ' button');\n",
              "      quickchartButtonEl.disabled = true;  // To prevent multiple clicks.\n",
              "      quickchartButtonEl.classList.add('colab-df-spinner');\n",
              "      try {\n",
              "        const charts = await google.colab.kernel.invokeFunction(\n",
              "            'suggestCharts', [key], {});\n",
              "      } catch (error) {\n",
              "        console.error('Error during call to suggestCharts:', error);\n",
              "      }\n",
              "      quickchartButtonEl.classList.remove('colab-df-spinner');\n",
              "      quickchartButtonEl.classList.add('colab-df-quickchart-complete');\n",
              "    }\n",
              "    (() => {\n",
              "      let quickchartButtonEl =\n",
              "        document.querySelector('#df-4983d727-9316-4c1d-a292-41042510a31b button');\n",
              "      quickchartButtonEl.style.display =\n",
              "        google.colab.kernel.accessAllowed ? 'block' : 'none';\n",
              "    })();\n",
              "  </script>\n",
              "</div>\n",
              "\n",
              "    </div>\n",
              "  </div>\n"
            ],
            "application/vnd.google.colaboratory.intrinsic+json": {
              "type": "dataframe",
              "variable_name": "transfers_df",
              "summary": "{\n  \"name\": \"transfers_df\",\n  \"rows\": 524,\n  \"fields\": [\n    {\n      \"column\": \"row_id\",\n      \"properties\": {\n        \"dtype\": \"number\",\n        \"std\": 62046,\n        \"min\": 54440,\n        \"max\": 182058,\n        \"num_unique_values\": 524,\n        \"samples\": [\n          178847,\n          179560,\n          54467\n        ],\n        \"semantic_type\": \"\",\n        \"description\": \"\"\n      }\n    },\n    {\n      \"column\": \"subject_id\",\n      \"properties\": {\n        \"dtype\": \"number\",\n        \"std\": 16023,\n        \"min\": 10006,\n        \"max\": 44228,\n        \"num_unique_values\": 100,\n        \"samples\": [\n          42458,\n          40277,\n          42075\n        ],\n        \"semantic_type\": \"\",\n        \"description\": \"\"\n      }\n    },\n    {\n      \"column\": \"hadm_id\",\n      \"properties\": {\n        \"dtype\": \"number\",\n        \"std\": 28342,\n        \"min\": 100375,\n        \"max\": 199395,\n        \"num_unique_values\": 129,\n        \"samples\": [\n          156668,\n          164869,\n          100375\n        ],\n        \"semantic_type\": \"\",\n        \"description\": \"\"\n      }\n    },\n    {\n      \"column\": \"icustay_id\",\n      \"properties\": {\n        \"dtype\": \"number\",\n        \"std\": 28417.560559671805,\n        \"min\": 201006.0,\n        \"max\": 298685.0,\n        \"num_unique_values\": 136,\n        \"samples\": [\n          279529.0,\n          234989.0,\n          269173.0\n        ],\n        \"semantic_type\": \"\",\n        \"description\": \"\"\n      }\n    },\n    {\n      \"column\": \"dbsource\",\n      \"properties\": {\n        \"dtype\": \"category\",\n        \"num_unique_values\": 2,\n        \"samples\": [\n          \"metavision\",\n          \"carevue\"\n        ],\n        \"semantic_type\": \"\",\n        \"description\": \"\"\n      }\n    },\n    {\n      \"column\": \"eventtype\",\n      \"properties\": {\n        \"dtype\": \"category\",\n        \"num_unique_values\": 3,\n        \"samples\": [\n          \"admit\",\n          \"transfer\"\n        ],\n        \"semantic_type\": \"\",\n        \"description\": \"\"\n      }\n    },\n    {\n      \"column\": \"prev_careunit\",\n      \"properties\": {\n        \"dtype\": \"category\",\n        \"num_unique_values\": 5,\n        \"samples\": [\n          \"CCU\",\n          \"TSICU\"\n        ],\n        \"semantic_type\": \"\",\n        \"description\": \"\"\n      }\n    },\n    {\n      \"column\": \"curr_careunit\",\n      \"properties\": {\n        \"dtype\": \"category\",\n        \"num_unique_values\": 5,\n        \"samples\": [\n          \"CCU\",\n          \"TSICU\"\n        ],\n        \"semantic_type\": \"\",\n        \"description\": \"\"\n      }\n    },\n    {\n      \"column\": \"prev_wardid\",\n      \"properties\": {\n        \"dtype\": \"number\",\n        \"std\": 18.399930716256552,\n        \"min\": 2.0,\n        \"max\": 57.0,\n        \"num_unique_values\": 28,\n        \"samples\": [\n          55.0,\n          48.0\n        ],\n        \"semantic_type\": \"\",\n        \"description\": \"\"\n      }\n    },\n    {\n      \"column\": \"curr_wardid\",\n      \"properties\": {\n        \"dtype\": \"number\",\n        \"std\": 18.399930716256552,\n        \"min\": 2.0,\n        \"max\": 57.0,\n        \"num_unique_values\": 28,\n        \"samples\": [\n          55.0,\n          48.0\n        ],\n        \"semantic_type\": \"\",\n        \"description\": \"\"\n      }\n    },\n    {\n      \"column\": \"intime\",\n      \"properties\": {\n        \"dtype\": \"object\",\n        \"num_unique_values\": 524,\n        \"samples\": [\n          \"2145-12-01 18:14:06\",\n          \"2147-11-04 20:50:00\"\n        ],\n        \"semantic_type\": \"\",\n        \"description\": \"\"\n      }\n    },\n    {\n      \"column\": \"outtime\",\n      \"properties\": {\n        \"dtype\": \"object\",\n        \"num_unique_values\": 395,\n        \"samples\": [\n          \"2188-02-09 11:39:00\",\n          \"2152-10-09 23:39:43\"\n        ],\n        \"semantic_type\": \"\",\n        \"description\": \"\"\n      }\n    },\n    {\n      \"column\": \"los\",\n      \"properties\": {\n        \"dtype\": \"number\",\n        \"std\": 133.4428820572669,\n        \"min\": 0.0,\n        \"max\": 1415.45,\n        \"num_unique_values\": 380,\n        \"samples\": [\n          44.26,\n          0.62\n        ],\n        \"semantic_type\": \"\",\n        \"description\": \"\"\n      }\n    }\n  ]\n}"
            }
          },
          "metadata": {},
          "execution_count": 6
        }
      ]
    },
    {
      "cell_type": "code",
      "source": [
        "merged_df = pd.merge(admissions_df, patients_df, on='subject_id')\n",
        "\n",
        "num_records = len(merged_df)\n",
        "print(\"Number of records\", num_records)\n",
        "\n"
      ],
      "metadata": {
        "colab": {
          "base_uri": "https://localhost:8080/"
        },
        "id": "7vI6LrYzvocn",
        "outputId": "8218f95c-6041-4d50-93e1-3bd2fb158f2e"
      },
      "execution_count": 7,
      "outputs": [
        {
          "output_type": "stream",
          "name": "stdout",
          "text": [
            "Number of records 129\n"
          ]
        }
      ]
    },
    {
      "cell_type": "markdown",
      "metadata": {
        "id": "re5rKy4pFUE8"
      },
      "source": [
        "# **Data Cleaning**"
      ]
    },
    {
      "cell_type": "markdown",
      "source": [
        "1.   **Handle missing values** (e.g., fill missing ethnicity values)\n",
        "2.   **Convert categorical variables** (e.g., gender, admission type) to numerical values.\n",
        "3.   **Calculate Length of Stay (LOS)** for ICU admissions."
      ],
      "metadata": {
        "id": "v5s0X8BVqiLB"
      }
    },
    {
      "cell_type": "code",
      "source": [
        "# Fill missing values for categorical columns\n",
        "admissions_df.update(admissions_df[\"ethnicity\"].fillna(\"unknown\"))\n",
        "\n",
        "# Convert categorical columns to numerical values\n",
        "admissions_df[\"hospital_expire_flag\"] = admissions_df[\"hospital_expire_flag\"].astype(int)\n",
        "patients_df[\"gender\"] = patients_df[\"gender\"].map({\"M\": 1, \"F\": 0})  # Encode gender as 1/0\n",
        "\n",
        "# Calculate ICU stay duration\n",
        "icustays_df[\"icu_duration\"] = (pd.to_datetime(icustays_df[\"outtime\"]) - pd.to_datetime(icustays_df[\"intime\"])).dt.total_seconds() / 3600"
      ],
      "metadata": {
        "id": "rVLOGCa9rW-K"
      },
      "execution_count": 8,
      "outputs": []
    },
    {
      "cell_type": "markdown",
      "metadata": {
        "id": "g_5e6MZiGrju"
      },
      "source": [
        "# **Merge Tables to Build a Feature Set**\n",
        "\n"
      ]
    },
    {
      "cell_type": "code",
      "source": [
        "# Merge Admissions & Patients\n",
        "data = pd.merge(admissions_df, patients_df, on=\"subject_id\", how=\"inner\") # Changed 'subject_id' to 'SUBJECT_ID'\n",
        "\n",
        "# Merge with ICU stays\n",
        "data = pd.merge(data, icustays_df, on=[\"subject_id\", \"hadm_id\"], how=\"left\") # Changed 'subject_id' to 'SUBJECT_ID' and 'hadm_id' to 'HADM_ID'\n",
        "\n",
        "# Select useful columns\n",
        "data = data[[\"subject_id\", \"gender\", \"ethnicity\", \"admission_type\", \"diagnosis\", \"icu_duration\", \"hospital_expire_flag\"]] # Changed 'subject_id' to 'SUBJECT_ID'\n",
        "\n",
        "\n",
        "# Drop missing ICU durations\n",
        "data.dropna(subset=[\"icu_duration\"], inplace=True)\n",
        "\n",
        "# Convert categorical variables to dummy variables\n",
        "data = pd.get_dummies(data, columns=[\"admission_type\", \"ethnicity\", \"diagnosis\"], drop_first=True)\n",
        "\n",
        "# Display processed data\n",
        "data.head()\n"
      ],
      "metadata": {
        "colab": {
          "base_uri": "https://localhost:8080/",
          "height": 273
        },
        "id": "2E_Qi215sgiA",
        "outputId": "ccf81bfe-9513-4fa8-9573-7b0c3fffd80c"
      },
      "execution_count": 9,
      "outputs": [
        {
          "output_type": "execute_result",
          "data": {
            "text/plain": [
              "   subject_id  gender  icu_duration  hospital_expire_flag  \\\n",
              "0       10006       0     39.181111                     0   \n",
              "1       10011       0    332.416667                     1   \n",
              "2       10013       0     63.597778                     1   \n",
              "3       10017       0     51.446667                     0   \n",
              "4       10019       1     31.052222                     1   \n",
              "\n",
              "   admission_type_EMERGENCY  admission_type_URGENT  ethnicity_ASIAN  \\\n",
              "0                      True                  False            False   \n",
              "1                      True                  False            False   \n",
              "2                      True                  False            False   \n",
              "3                      True                  False            False   \n",
              "4                      True                  False            False   \n",
              "\n",
              "   ethnicity_BLACK/AFRICAN AMERICAN  ethnicity_HISPANIC OR LATINO  \\\n",
              "0                              True                         False   \n",
              "1                             False                         False   \n",
              "2                             False                         False   \n",
              "3                             False                         False   \n",
              "4                             False                         False   \n",
              "\n",
              "   ethnicity_HISPANIC/LATINO - PUERTO RICAN  ...  \\\n",
              "0                                     False  ...   \n",
              "1                                     False  ...   \n",
              "2                                     False  ...   \n",
              "3                                     False  ...   \n",
              "4                                     False  ...   \n",
              "\n",
              "   diagnosis_TRACHEAL ESOPHAGEAL FISTULA  diagnosis_TRACHEAL STENOSIS  \\\n",
              "0                                  False                        False   \n",
              "1                                  False                        False   \n",
              "2                                  False                        False   \n",
              "3                                  False                        False   \n",
              "4                                  False                        False   \n",
              "\n",
              "   diagnosis_UNSTABLE ANGINA  diagnosis_UPPER GI BLEED  \\\n",
              "0                      False                     False   \n",
              "1                      False                     False   \n",
              "2                      False                     False   \n",
              "3                      False                     False   \n",
              "4                      False                     False   \n",
              "\n",
              "   diagnosis_URINARY TRACT INFECTION;PYELONEPHRITIS  diagnosis_UROSEPSIS  \\\n",
              "0                                             False                False   \n",
              "1                                             False                False   \n",
              "2                                             False                False   \n",
              "3                                             False                False   \n",
              "4                                             False                False   \n",
              "\n",
              "   diagnosis_UTI/PYELONEPHRITIS  diagnosis_VARICEAL BLEED  \\\n",
              "0                         False                     False   \n",
              "1                         False                     False   \n",
              "2                         False                     False   \n",
              "3                         False                     False   \n",
              "4                         False                     False   \n",
              "\n",
              "   diagnosis_VF ARREST   diagnosis_VOLVULUS  \n",
              "0                 False               False  \n",
              "1                 False               False  \n",
              "2                 False               False  \n",
              "3                 False               False  \n",
              "4                 False               False  \n",
              "\n",
              "[5 rows x 108 columns]"
            ],
            "text/html": [
              "\n",
              "  <div id=\"df-5efa3005-d01f-4146-9aec-9020540cc2c6\" class=\"colab-df-container\">\n",
              "    <div>\n",
              "<style scoped>\n",
              "    .dataframe tbody tr th:only-of-type {\n",
              "        vertical-align: middle;\n",
              "    }\n",
              "\n",
              "    .dataframe tbody tr th {\n",
              "        vertical-align: top;\n",
              "    }\n",
              "\n",
              "    .dataframe thead th {\n",
              "        text-align: right;\n",
              "    }\n",
              "</style>\n",
              "<table border=\"1\" class=\"dataframe\">\n",
              "  <thead>\n",
              "    <tr style=\"text-align: right;\">\n",
              "      <th></th>\n",
              "      <th>subject_id</th>\n",
              "      <th>gender</th>\n",
              "      <th>icu_duration</th>\n",
              "      <th>hospital_expire_flag</th>\n",
              "      <th>admission_type_EMERGENCY</th>\n",
              "      <th>admission_type_URGENT</th>\n",
              "      <th>ethnicity_ASIAN</th>\n",
              "      <th>ethnicity_BLACK/AFRICAN AMERICAN</th>\n",
              "      <th>ethnicity_HISPANIC OR LATINO</th>\n",
              "      <th>ethnicity_HISPANIC/LATINO - PUERTO RICAN</th>\n",
              "      <th>...</th>\n",
              "      <th>diagnosis_TRACHEAL ESOPHAGEAL FISTULA</th>\n",
              "      <th>diagnosis_TRACHEAL STENOSIS</th>\n",
              "      <th>diagnosis_UNSTABLE ANGINA</th>\n",
              "      <th>diagnosis_UPPER GI BLEED</th>\n",
              "      <th>diagnosis_URINARY TRACT INFECTION;PYELONEPHRITIS</th>\n",
              "      <th>diagnosis_UROSEPSIS</th>\n",
              "      <th>diagnosis_UTI/PYELONEPHRITIS</th>\n",
              "      <th>diagnosis_VARICEAL BLEED</th>\n",
              "      <th>diagnosis_VF ARREST</th>\n",
              "      <th>diagnosis_VOLVULUS</th>\n",
              "    </tr>\n",
              "  </thead>\n",
              "  <tbody>\n",
              "    <tr>\n",
              "      <th>0</th>\n",
              "      <td>10006</td>\n",
              "      <td>0</td>\n",
              "      <td>39.181111</td>\n",
              "      <td>0</td>\n",
              "      <td>True</td>\n",
              "      <td>False</td>\n",
              "      <td>False</td>\n",
              "      <td>True</td>\n",
              "      <td>False</td>\n",
              "      <td>False</td>\n",
              "      <td>...</td>\n",
              "      <td>False</td>\n",
              "      <td>False</td>\n",
              "      <td>False</td>\n",
              "      <td>False</td>\n",
              "      <td>False</td>\n",
              "      <td>False</td>\n",
              "      <td>False</td>\n",
              "      <td>False</td>\n",
              "      <td>False</td>\n",
              "      <td>False</td>\n",
              "    </tr>\n",
              "    <tr>\n",
              "      <th>1</th>\n",
              "      <td>10011</td>\n",
              "      <td>0</td>\n",
              "      <td>332.416667</td>\n",
              "      <td>1</td>\n",
              "      <td>True</td>\n",
              "      <td>False</td>\n",
              "      <td>False</td>\n",
              "      <td>False</td>\n",
              "      <td>False</td>\n",
              "      <td>False</td>\n",
              "      <td>...</td>\n",
              "      <td>False</td>\n",
              "      <td>False</td>\n",
              "      <td>False</td>\n",
              "      <td>False</td>\n",
              "      <td>False</td>\n",
              "      <td>False</td>\n",
              "      <td>False</td>\n",
              "      <td>False</td>\n",
              "      <td>False</td>\n",
              "      <td>False</td>\n",
              "    </tr>\n",
              "    <tr>\n",
              "      <th>2</th>\n",
              "      <td>10013</td>\n",
              "      <td>0</td>\n",
              "      <td>63.597778</td>\n",
              "      <td>1</td>\n",
              "      <td>True</td>\n",
              "      <td>False</td>\n",
              "      <td>False</td>\n",
              "      <td>False</td>\n",
              "      <td>False</td>\n",
              "      <td>False</td>\n",
              "      <td>...</td>\n",
              "      <td>False</td>\n",
              "      <td>False</td>\n",
              "      <td>False</td>\n",
              "      <td>False</td>\n",
              "      <td>False</td>\n",
              "      <td>False</td>\n",
              "      <td>False</td>\n",
              "      <td>False</td>\n",
              "      <td>False</td>\n",
              "      <td>False</td>\n",
              "    </tr>\n",
              "    <tr>\n",
              "      <th>3</th>\n",
              "      <td>10017</td>\n",
              "      <td>0</td>\n",
              "      <td>51.446667</td>\n",
              "      <td>0</td>\n",
              "      <td>True</td>\n",
              "      <td>False</td>\n",
              "      <td>False</td>\n",
              "      <td>False</td>\n",
              "      <td>False</td>\n",
              "      <td>False</td>\n",
              "      <td>...</td>\n",
              "      <td>False</td>\n",
              "      <td>False</td>\n",
              "      <td>False</td>\n",
              "      <td>False</td>\n",
              "      <td>False</td>\n",
              "      <td>False</td>\n",
              "      <td>False</td>\n",
              "      <td>False</td>\n",
              "      <td>False</td>\n",
              "      <td>False</td>\n",
              "    </tr>\n",
              "    <tr>\n",
              "      <th>4</th>\n",
              "      <td>10019</td>\n",
              "      <td>1</td>\n",
              "      <td>31.052222</td>\n",
              "      <td>1</td>\n",
              "      <td>True</td>\n",
              "      <td>False</td>\n",
              "      <td>False</td>\n",
              "      <td>False</td>\n",
              "      <td>False</td>\n",
              "      <td>False</td>\n",
              "      <td>...</td>\n",
              "      <td>False</td>\n",
              "      <td>False</td>\n",
              "      <td>False</td>\n",
              "      <td>False</td>\n",
              "      <td>False</td>\n",
              "      <td>False</td>\n",
              "      <td>False</td>\n",
              "      <td>False</td>\n",
              "      <td>False</td>\n",
              "      <td>False</td>\n",
              "    </tr>\n",
              "  </tbody>\n",
              "</table>\n",
              "<p>5 rows × 108 columns</p>\n",
              "</div>\n",
              "    <div class=\"colab-df-buttons\">\n",
              "\n",
              "  <div class=\"colab-df-container\">\n",
              "    <button class=\"colab-df-convert\" onclick=\"convertToInteractive('df-5efa3005-d01f-4146-9aec-9020540cc2c6')\"\n",
              "            title=\"Convert this dataframe to an interactive table.\"\n",
              "            style=\"display:none;\">\n",
              "\n",
              "  <svg xmlns=\"http://www.w3.org/2000/svg\" height=\"24px\" viewBox=\"0 -960 960 960\">\n",
              "    <path d=\"M120-120v-720h720v720H120Zm60-500h600v-160H180v160Zm220 220h160v-160H400v160Zm0 220h160v-160H400v160ZM180-400h160v-160H180v160Zm440 0h160v-160H620v160ZM180-180h160v-160H180v160Zm440 0h160v-160H620v160Z\"/>\n",
              "  </svg>\n",
              "    </button>\n",
              "\n",
              "  <style>\n",
              "    .colab-df-container {\n",
              "      display:flex;\n",
              "      gap: 12px;\n",
              "    }\n",
              "\n",
              "    .colab-df-convert {\n",
              "      background-color: #E8F0FE;\n",
              "      border: none;\n",
              "      border-radius: 50%;\n",
              "      cursor: pointer;\n",
              "      display: none;\n",
              "      fill: #1967D2;\n",
              "      height: 32px;\n",
              "      padding: 0 0 0 0;\n",
              "      width: 32px;\n",
              "    }\n",
              "\n",
              "    .colab-df-convert:hover {\n",
              "      background-color: #E2EBFA;\n",
              "      box-shadow: 0px 1px 2px rgba(60, 64, 67, 0.3), 0px 1px 3px 1px rgba(60, 64, 67, 0.15);\n",
              "      fill: #174EA6;\n",
              "    }\n",
              "\n",
              "    .colab-df-buttons div {\n",
              "      margin-bottom: 4px;\n",
              "    }\n",
              "\n",
              "    [theme=dark] .colab-df-convert {\n",
              "      background-color: #3B4455;\n",
              "      fill: #D2E3FC;\n",
              "    }\n",
              "\n",
              "    [theme=dark] .colab-df-convert:hover {\n",
              "      background-color: #434B5C;\n",
              "      box-shadow: 0px 1px 3px 1px rgba(0, 0, 0, 0.15);\n",
              "      filter: drop-shadow(0px 1px 2px rgba(0, 0, 0, 0.3));\n",
              "      fill: #FFFFFF;\n",
              "    }\n",
              "  </style>\n",
              "\n",
              "    <script>\n",
              "      const buttonEl =\n",
              "        document.querySelector('#df-5efa3005-d01f-4146-9aec-9020540cc2c6 button.colab-df-convert');\n",
              "      buttonEl.style.display =\n",
              "        google.colab.kernel.accessAllowed ? 'block' : 'none';\n",
              "\n",
              "      async function convertToInteractive(key) {\n",
              "        const element = document.querySelector('#df-5efa3005-d01f-4146-9aec-9020540cc2c6');\n",
              "        const dataTable =\n",
              "          await google.colab.kernel.invokeFunction('convertToInteractive',\n",
              "                                                    [key], {});\n",
              "        if (!dataTable) return;\n",
              "\n",
              "        const docLinkHtml = 'Like what you see? Visit the ' +\n",
              "          '<a target=\"_blank\" href=https://colab.research.google.com/notebooks/data_table.ipynb>data table notebook</a>'\n",
              "          + ' to learn more about interactive tables.';\n",
              "        element.innerHTML = '';\n",
              "        dataTable['output_type'] = 'display_data';\n",
              "        await google.colab.output.renderOutput(dataTable, element);\n",
              "        const docLink = document.createElement('div');\n",
              "        docLink.innerHTML = docLinkHtml;\n",
              "        element.appendChild(docLink);\n",
              "      }\n",
              "    </script>\n",
              "  </div>\n",
              "\n",
              "\n",
              "<div id=\"df-2d523b5c-c575-48ad-982e-5812841ff929\">\n",
              "  <button class=\"colab-df-quickchart\" onclick=\"quickchart('df-2d523b5c-c575-48ad-982e-5812841ff929')\"\n",
              "            title=\"Suggest charts\"\n",
              "            style=\"display:none;\">\n",
              "\n",
              "<svg xmlns=\"http://www.w3.org/2000/svg\" height=\"24px\"viewBox=\"0 0 24 24\"\n",
              "     width=\"24px\">\n",
              "    <g>\n",
              "        <path d=\"M19 3H5c-1.1 0-2 .9-2 2v14c0 1.1.9 2 2 2h14c1.1 0 2-.9 2-2V5c0-1.1-.9-2-2-2zM9 17H7v-7h2v7zm4 0h-2V7h2v10zm4 0h-2v-4h2v4z\"/>\n",
              "    </g>\n",
              "</svg>\n",
              "  </button>\n",
              "\n",
              "<style>\n",
              "  .colab-df-quickchart {\n",
              "      --bg-color: #E8F0FE;\n",
              "      --fill-color: #1967D2;\n",
              "      --hover-bg-color: #E2EBFA;\n",
              "      --hover-fill-color: #174EA6;\n",
              "      --disabled-fill-color: #AAA;\n",
              "      --disabled-bg-color: #DDD;\n",
              "  }\n",
              "\n",
              "  [theme=dark] .colab-df-quickchart {\n",
              "      --bg-color: #3B4455;\n",
              "      --fill-color: #D2E3FC;\n",
              "      --hover-bg-color: #434B5C;\n",
              "      --hover-fill-color: #FFFFFF;\n",
              "      --disabled-bg-color: #3B4455;\n",
              "      --disabled-fill-color: #666;\n",
              "  }\n",
              "\n",
              "  .colab-df-quickchart {\n",
              "    background-color: var(--bg-color);\n",
              "    border: none;\n",
              "    border-radius: 50%;\n",
              "    cursor: pointer;\n",
              "    display: none;\n",
              "    fill: var(--fill-color);\n",
              "    height: 32px;\n",
              "    padding: 0;\n",
              "    width: 32px;\n",
              "  }\n",
              "\n",
              "  .colab-df-quickchart:hover {\n",
              "    background-color: var(--hover-bg-color);\n",
              "    box-shadow: 0 1px 2px rgba(60, 64, 67, 0.3), 0 1px 3px 1px rgba(60, 64, 67, 0.15);\n",
              "    fill: var(--button-hover-fill-color);\n",
              "  }\n",
              "\n",
              "  .colab-df-quickchart-complete:disabled,\n",
              "  .colab-df-quickchart-complete:disabled:hover {\n",
              "    background-color: var(--disabled-bg-color);\n",
              "    fill: var(--disabled-fill-color);\n",
              "    box-shadow: none;\n",
              "  }\n",
              "\n",
              "  .colab-df-spinner {\n",
              "    border: 2px solid var(--fill-color);\n",
              "    border-color: transparent;\n",
              "    border-bottom-color: var(--fill-color);\n",
              "    animation:\n",
              "      spin 1s steps(1) infinite;\n",
              "  }\n",
              "\n",
              "  @keyframes spin {\n",
              "    0% {\n",
              "      border-color: transparent;\n",
              "      border-bottom-color: var(--fill-color);\n",
              "      border-left-color: var(--fill-color);\n",
              "    }\n",
              "    20% {\n",
              "      border-color: transparent;\n",
              "      border-left-color: var(--fill-color);\n",
              "      border-top-color: var(--fill-color);\n",
              "    }\n",
              "    30% {\n",
              "      border-color: transparent;\n",
              "      border-left-color: var(--fill-color);\n",
              "      border-top-color: var(--fill-color);\n",
              "      border-right-color: var(--fill-color);\n",
              "    }\n",
              "    40% {\n",
              "      border-color: transparent;\n",
              "      border-right-color: var(--fill-color);\n",
              "      border-top-color: var(--fill-color);\n",
              "    }\n",
              "    60% {\n",
              "      border-color: transparent;\n",
              "      border-right-color: var(--fill-color);\n",
              "    }\n",
              "    80% {\n",
              "      border-color: transparent;\n",
              "      border-right-color: var(--fill-color);\n",
              "      border-bottom-color: var(--fill-color);\n",
              "    }\n",
              "    90% {\n",
              "      border-color: transparent;\n",
              "      border-bottom-color: var(--fill-color);\n",
              "    }\n",
              "  }\n",
              "</style>\n",
              "\n",
              "  <script>\n",
              "    async function quickchart(key) {\n",
              "      const quickchartButtonEl =\n",
              "        document.querySelector('#' + key + ' button');\n",
              "      quickchartButtonEl.disabled = true;  // To prevent multiple clicks.\n",
              "      quickchartButtonEl.classList.add('colab-df-spinner');\n",
              "      try {\n",
              "        const charts = await google.colab.kernel.invokeFunction(\n",
              "            'suggestCharts', [key], {});\n",
              "      } catch (error) {\n",
              "        console.error('Error during call to suggestCharts:', error);\n",
              "      }\n",
              "      quickchartButtonEl.classList.remove('colab-df-spinner');\n",
              "      quickchartButtonEl.classList.add('colab-df-quickchart-complete');\n",
              "    }\n",
              "    (() => {\n",
              "      let quickchartButtonEl =\n",
              "        document.querySelector('#df-2d523b5c-c575-48ad-982e-5812841ff929 button');\n",
              "      quickchartButtonEl.style.display =\n",
              "        google.colab.kernel.accessAllowed ? 'block' : 'none';\n",
              "    })();\n",
              "  </script>\n",
              "</div>\n",
              "\n",
              "    </div>\n",
              "  </div>\n"
            ],
            "application/vnd.google.colaboratory.intrinsic+json": {
              "type": "dataframe",
              "variable_name": "data"
            }
          },
          "metadata": {},
          "execution_count": 9
        }
      ]
    },
    {
      "cell_type": "markdown",
      "source": [],
      "metadata": {
        "id": "bwlsPN5bH9vt"
      }
    },
    {
      "cell_type": "markdown",
      "metadata": {
        "id": "Jr-ElsfDCka6"
      },
      "source": [
        "# **Machine Learning Model**\n"
      ]
    },
    {
      "cell_type": "code",
      "source": [
        "# Use Logistic Regression to predict patient mortality.\n",
        "\n",
        "from sklearn.model_selection import train_test_split\n",
        "from sklearn.preprocessing import StandardScaler\n",
        "from sklearn.linear_model import LogisticRegression\n",
        "from sklearn.metrics import accuracy_score, classification_report\n",
        "\n",
        "# Define features & target variable\n",
        "X = data.drop([\"hospital_expire_flag\", \"subject_id\"], axis=1)\n",
        "y = data[\"hospital_expire_flag\"]\n",
        "\n",
        "# Split data\n",
        "X_train, X_test, y_train, y_test = train_test_split(X, y, test_size=0.2, random_state=42)\n",
        "\n",
        "# Standardize numeric features\n",
        "scaler = StandardScaler()\n",
        "X_train = scaler.fit_transform(X_train)\n",
        "X_test = scaler.transform(X_test)\n",
        "\n",
        "# Train model\n",
        "model = LogisticRegression()\n",
        "model.fit(X_train, y_train)\n",
        "\n",
        "# Predict\n",
        "y_pred = model.predict(X_test)\n",
        "\n",
        "# Evaluate\n",
        "print(\"Accuracy:\", accuracy_score(y_test, y_pred))\n",
        "print(classification_report(y_test, y_pred))\n"
      ],
      "metadata": {
        "colab": {
          "base_uri": "https://localhost:8080/"
        },
        "id": "AWO-VpMz2__y",
        "outputId": "f9d11086-da02-4630-f458-f042763b3276"
      },
      "execution_count": 10,
      "outputs": [
        {
          "output_type": "stream",
          "name": "stdout",
          "text": [
            "Accuracy: 0.6428571428571429\n",
            "              precision    recall  f1-score   support\n",
            "\n",
            "           0       0.73      0.80      0.76        20\n",
            "           1       0.33      0.25      0.29         8\n",
            "\n",
            "    accuracy                           0.64        28\n",
            "   macro avg       0.53      0.53      0.52        28\n",
            "weighted avg       0.61      0.64      0.63        28\n",
            "\n"
          ]
        }
      ]
    },
    {
      "cell_type": "markdown",
      "source": [
        "# **Deep Learning Model**\n"
      ],
      "metadata": {
        "id": "XZpim0p43LI3"
      }
    },
    {
      "cell_type": "code",
      "source": [
        "# Use a Neural Network to improve accuracy.\n",
        "\n",
        "\n",
        "import tensorflow as tf\n",
        "from tensorflow import keras\n",
        "from tensorflow.keras.models import Sequential\n",
        "from tensorflow.keras.layers import Dense\n",
        "\n",
        "# Define Neural Network Model\n",
        "nn_model = Sequential([\n",
        "    Dense(64, activation=\"relu\", input_shape=(X_train.shape[1],)),\n",
        "    Dense(32, activation=\"relu\"),\n",
        "    Dense(1, activation=\"sigmoid\")  # Output layer for binary classification\n",
        "])\n",
        "\n",
        "# Compile Model\n",
        "nn_model.compile(optimizer=\"adam\", loss=\"binary_crossentropy\", metrics=[\"accuracy\"])\n",
        "\n",
        "# Train Model\n",
        "nn_model.fit(X_train, y_train, epochs=10, batch_size=32, validation_data=(X_test, y_test))\n",
        "\n",
        "# Evaluate Model\n",
        "loss, accuracy = nn_model.evaluate(X_test, y_test)\n",
        "print(\"Neural Network Accuracy:\", accuracy)\n"
      ],
      "metadata": {
        "colab": {
          "base_uri": "https://localhost:8080/"
        },
        "id": "8swfHUX43Tp_",
        "outputId": "5d915017-4630-4df6-fee1-739fde239d28"
      },
      "execution_count": 11,
      "outputs": [
        {
          "output_type": "stream",
          "name": "stderr",
          "text": [
            "/usr/local/lib/python3.11/dist-packages/keras/src/layers/core/dense.py:87: UserWarning: Do not pass an `input_shape`/`input_dim` argument to a layer. When using Sequential models, prefer using an `Input(shape)` object as the first layer in the model instead.\n",
            "  super().__init__(activity_regularizer=activity_regularizer, **kwargs)\n"
          ]
        },
        {
          "output_type": "stream",
          "name": "stdout",
          "text": [
            "Epoch 1/10\n",
            "\u001b[1m4/4\u001b[0m \u001b[32m━━━━━━━━━━━━━━━━━━━━\u001b[0m\u001b[37m\u001b[0m \u001b[1m2s\u001b[0m 89ms/step - accuracy: 0.4881 - loss: 0.7748 - val_accuracy: 0.4643 - val_loss: 0.7043\n",
            "Epoch 2/10\n",
            "\u001b[1m4/4\u001b[0m \u001b[32m━━━━━━━━━━━━━━━━━━━━\u001b[0m\u001b[37m\u001b[0m \u001b[1m0s\u001b[0m 25ms/step - accuracy: 0.5436 - loss: 0.6675 - val_accuracy: 0.6429 - val_loss: 0.6715\n",
            "Epoch 3/10\n",
            "\u001b[1m4/4\u001b[0m \u001b[32m━━━━━━━━━━━━━━━━━━━━\u001b[0m\u001b[37m\u001b[0m \u001b[1m0s\u001b[0m 25ms/step - accuracy: 0.7054 - loss: 0.6201 - val_accuracy: 0.6786 - val_loss: 0.6507\n",
            "Epoch 4/10\n",
            "\u001b[1m4/4\u001b[0m \u001b[32m━━━━━━━━━━━━━━━━━━━━\u001b[0m\u001b[37m\u001b[0m \u001b[1m0s\u001b[0m 38ms/step - accuracy: 0.7039 - loss: 0.5901 - val_accuracy: 0.7143 - val_loss: 0.6354\n",
            "Epoch 5/10\n",
            "\u001b[1m4/4\u001b[0m \u001b[32m━━━━━━━━━━━━━━━━━━━━\u001b[0m\u001b[37m\u001b[0m \u001b[1m0s\u001b[0m 24ms/step - accuracy: 0.7044 - loss: 0.5494 - val_accuracy: 0.7143 - val_loss: 0.6237\n",
            "Epoch 6/10\n",
            "\u001b[1m4/4\u001b[0m \u001b[32m━━━━━━━━━━━━━━━━━━━━\u001b[0m\u001b[37m\u001b[0m \u001b[1m0s\u001b[0m 24ms/step - accuracy: 0.7289 - loss: 0.5146 - val_accuracy: 0.7143 - val_loss: 0.6160\n",
            "Epoch 7/10\n",
            "\u001b[1m4/4\u001b[0m \u001b[32m━━━━━━━━━━━━━━━━━━━━\u001b[0m\u001b[37m\u001b[0m \u001b[1m0s\u001b[0m 27ms/step - accuracy: 0.7443 - loss: 0.5091 - val_accuracy: 0.7500 - val_loss: 0.6097\n",
            "Epoch 8/10\n",
            "\u001b[1m4/4\u001b[0m \u001b[32m━━━━━━━━━━━━━━━━━━━━\u001b[0m\u001b[37m\u001b[0m \u001b[1m0s\u001b[0m 37ms/step - accuracy: 0.8310 - loss: 0.4506 - val_accuracy: 0.7143 - val_loss: 0.6044\n",
            "Epoch 9/10\n",
            "\u001b[1m4/4\u001b[0m \u001b[32m━━━━━━━━━━━━━━━━━━━━\u001b[0m\u001b[37m\u001b[0m \u001b[1m0s\u001b[0m 24ms/step - accuracy: 0.8219 - loss: 0.4566 - val_accuracy: 0.6429 - val_loss: 0.6012\n",
            "Epoch 10/10\n",
            "\u001b[1m4/4\u001b[0m \u001b[32m━━━━━━━━━━━━━━━━━━━━\u001b[0m\u001b[37m\u001b[0m \u001b[1m0s\u001b[0m 25ms/step - accuracy: 0.8501 - loss: 0.4146 - val_accuracy: 0.6786 - val_loss: 0.5982\n",
            "\u001b[1m1/1\u001b[0m \u001b[32m━━━━━━━━━━━━━━━━━━━━\u001b[0m\u001b[37m\u001b[0m \u001b[1m0s\u001b[0m 47ms/step - accuracy: 0.6786 - loss: 0.5982\n",
            "Neural Network Accuracy: 0.6785714030265808\n"
          ]
        }
      ]
    },
    {
      "cell_type": "markdown",
      "source": [
        "# **Evaluate Model Performance**\n"
      ],
      "metadata": {
        "id": "qPoZ9qKE28cJ"
      }
    },
    {
      "cell_type": "markdown",
      "source": [
        "##### Comparision Logistic Regression vs Neural Network performance.\n",
        "\n",
        "\n",
        "\n",
        "| Model                  | Accuracy  |\n",
        "|------------------------|----------|\n",
        "| Logistic Regression    | **64.2%** |\n",
        "| Neural Network        | **67.8%**   |\n",
        "\n",
        "\n",
        "\n",
        "Deep Learning Model performs better than Logistic Regression in predicting ICU mortality.\n",
        "\n",
        "\n"
      ],
      "metadata": {
        "id": "3Eu0tCkF3wyi"
      }
    },
    {
      "cell_type": "markdown",
      "source": [
        "\n",
        "# **30 Day Readmission - Risk Prediction**\n"
      ],
      "metadata": {
        "id": "Dlw7NiX4HlHK"
      }
    },
    {
      "cell_type": "code",
      "source": [
        "import pandas as pd\n",
        "import numpy as np\n",
        "from sklearn.model_selection import train_test_split\n",
        "from sklearn.preprocessing import StandardScaler, OneHotEncoder\n",
        "from sklearn.pipeline import Pipeline\n",
        "from sklearn.ensemble import RandomForestClassifier\n",
        "from sklearn.linear_model import LogisticRegression\n",
        "from sklearn.metrics import accuracy_score, classification_report\n",
        "import tensorflow as tf\n",
        "from tensorflow.keras.models import Sequential\n",
        "from tensorflow.keras.layers import Dense, Dropout\n"
      ],
      "metadata": {
        "id": "gUXKSp-OK41D"
      },
      "execution_count": 12,
      "outputs": []
    },
    {
      "cell_type": "markdown",
      "source": [
        "# **Data Cleaning**"
      ],
      "metadata": {
        "id": "n5fMxv2OH4HV"
      }
    },
    {
      "cell_type": "markdown",
      "source": [],
      "metadata": {
        "id": "rNbGB92RIY4j"
      }
    },
    {
      "cell_type": "markdown",
      "source": [
        "# **Merge Tables to Build a Feature Set**\n"
      ],
      "metadata": {
        "id": "xbYd-wwbIAE7"
      }
    },
    {
      "cell_type": "code",
      "source": [
        "merged_data = admissions_df.merge(patients_df, on=\"subject_id\", how=\"inner\")\n",
        "merged_data = merged_data.merge(icustays_df, on=[\"subject_id\", \"hadm_id\"], how=\"left\")\n",
        "# Specify suffixes to avoid conflicts\n",
        "merged_data = merged_data.merge(transfers_df, on=[\"subject_id\", \"hadm_id\"], how=\"left\", suffixes=('_merged', '_transfers'))\n",
        "# The 'row_id' column from transfers_df will now be named 'row_id_transfers'.\n",
        "# Adjust subsequent code to use the new column names if necessary."
      ],
      "metadata": {
        "id": "njDUuvalIw7W"
      },
      "execution_count": 14,
      "outputs": []
    },
    {
      "cell_type": "markdown",
      "source": [
        "# ***Feature Engineering***\n"
      ],
      "metadata": {
        "id": "f970i2oIJDs5"
      }
    },
    {
      "cell_type": "markdown",
      "source": [
        "***Create Readmission Label***"
      ],
      "metadata": {
        "id": "TNB0SpnhJQQ1"
      }
    },
    {
      "cell_type": "code",
      "source": [
        "# Calculate age from 'dob' and 'admittime'\n",
        "merged_data['admittime'] = pd.to_datetime(merged_data['admittime'])\n",
        "merged_data['dob'] = pd.to_datetime(merged_data['dob'])\n",
        "\n",
        "# Apply to_pydatetime before subtracting to handle large timedeltas\n",
        "merged_data['age'] = merged_data.apply(lambda row: (row['admittime'].to_pydatetime() - row['dob'].to_pydatetime()).days / 365.25, axis=1)\n",
        "\n",
        "merged_data['age'] = merged_data['age'].astype(int) # Convert age to integers\n",
        "\n",
        "# Identify if a patient was readmitted within 30 days after discharge\n",
        "merged_data[\"readmission_flag\"] = merged_data.groupby(\"subject_id\")[\"admittime\"].shift(-1)\n",
        "merged_data[\"readmission_flag\"] = (pd.to_datetime(merged_data[\"readmission_flag\"]) - pd.to_datetime(merged_data[\"dischtime\"]))\n",
        "merged_data[\"readmission_flag\"] = merged_data[\"readmission_flag\"].dt.days <= 30\n",
        "merged_data[\"readmission_flag\"] = merged_data[\"readmission_flag\"].astype(int)\n",
        "\n",
        "# Select Features and Target Variable\n",
        "features = [\"age\", \"icu_duration\", \"admission_type\", \"gender\"]  # Selected predictive features\n",
        "X = merged_data[features]\n",
        "y = merged_data[\"readmission_flag\"]  # Target variable"
      ],
      "metadata": {
        "id": "rH7EmhjMJBJV"
      },
      "execution_count": 17,
      "outputs": []
    },
    {
      "cell_type": "markdown",
      "source": [
        "***Preprocessing***"
      ],
      "metadata": {
        "id": "JxulkBPiI4Mg"
      }
    },
    {
      "cell_type": "code",
      "source": [
        "# Preprocess Categorical Features using One-Hot Encoding\n",
        "encoder = OneHotEncoder(handle_unknown='ignore')\n",
        "X_encoded = encoder.fit_transform(merged_data[[\"admission_type\", \"gender\"]]).toarray()\n",
        "X_numeric = merged_data[[\"icu_duration\", \"age\"]].fillna(0)  # Fill missing values\n",
        "X = np.hstack([X_numeric, X_encoded])  # Combine numeric and encoded features\n",
        "\n",
        "# Split Data into Training and Testing Sets\n",
        "X_train, X_test, y_train, y_test = train_test_split(X, y, test_size=0.2, random_state=42)\n",
        "\n",
        "# Standardize Numerical Features\n",
        "scaler = StandardScaler()\n",
        "X_train = scaler.fit_transform(X_train)\n",
        "X_test = scaler.transform(X_test)\n"
      ],
      "metadata": {
        "id": "95LFXc1tI748"
      },
      "execution_count": 18,
      "outputs": []
    },
    {
      "cell_type": "markdown",
      "source": [
        "# ***Train ML Model: Random Forest***\n"
      ],
      "metadata": {
        "id": "a4r0_mhBJi2l"
      }
    },
    {
      "cell_type": "code",
      "source": [
        "rf_model = RandomForestClassifier(n_estimators=100, random_state=42)\n",
        "rf_model.fit(X_train, y_train)  # Train Random Forest model\n",
        "y_pred_rf = rf_model.predict(X_test)  # Predict using test set\n",
        "print(\"Random Forest Accuracy:\", accuracy_score(y_test, y_pred_rf))  # Display accuracy\n",
        "print(classification_report(y_test, y_pred_rf))  # Display classification metrics\n"
      ],
      "metadata": {
        "colab": {
          "base_uri": "https://localhost:8080/"
        },
        "id": "xFV94tByJmE-",
        "outputId": "c1c53b9c-0205-4b37-cc39-0ae961c7460b"
      },
      "execution_count": 19,
      "outputs": [
        {
          "output_type": "stream",
          "name": "stdout",
          "text": [
            "Random Forest Accuracy: 0.7280701754385965\n",
            "              precision    recall  f1-score   support\n",
            "\n",
            "           0       0.00      0.00      0.00        19\n",
            "           1       0.81      0.87      0.84        95\n",
            "\n",
            "    accuracy                           0.73       114\n",
            "   macro avg       0.41      0.44      0.42       114\n",
            "weighted avg       0.68      0.73      0.70       114\n",
            "\n"
          ]
        }
      ]
    },
    {
      "cell_type": "markdown",
      "source": [
        "# ***Train DL Model: Neural Network***\n"
      ],
      "metadata": {
        "id": "hot1yIJPJvFs"
      }
    },
    {
      "cell_type": "code",
      "source": [
        "nn_model = Sequential([\n",
        "    Dense(64, activation='relu', input_shape=(X_train.shape[1],)),  # First hidden layer\n",
        "    Dropout(0.3),  # Dropout for regularization\n",
        "    Dense(32, activation='relu'),  # Second hidden layer\n",
        "    Dropout(0.3),  # Additional dropout layer\n",
        "    Dense(1, activation='sigmoid')  # Output layer for binary classification\n",
        "])\n",
        "\n",
        "\n",
        "# Compile the Neural Network Model\n",
        "nn_model.compile(optimizer='adam', loss='binary_crossentropy', metrics=['accuracy'])\n",
        "\n",
        "# Train the Neural Network Model\n",
        "nn_model.fit(X_train, y_train, epochs=10, batch_size=32, validation_data=(X_test, y_test))\n"
      ],
      "metadata": {
        "colab": {
          "base_uri": "https://localhost:8080/"
        },
        "id": "-eW915tbJ5Qo",
        "outputId": "c9270e20-75d4-416f-9227-97a0b3db83cf"
      },
      "execution_count": 20,
      "outputs": [
        {
          "output_type": "stream",
          "name": "stdout",
          "text": [
            "Epoch 1/10\n"
          ]
        },
        {
          "output_type": "stream",
          "name": "stderr",
          "text": [
            "/usr/local/lib/python3.11/dist-packages/keras/src/layers/core/dense.py:87: UserWarning: Do not pass an `input_shape`/`input_dim` argument to a layer. When using Sequential models, prefer using an `Input(shape)` object as the first layer in the model instead.\n",
            "  super().__init__(activity_regularizer=activity_regularizer, **kwargs)\n"
          ]
        },
        {
          "output_type": "stream",
          "name": "stdout",
          "text": [
            "\u001b[1m15/15\u001b[0m \u001b[32m━━━━━━━━━━━━━━━━━━━━\u001b[0m\u001b[37m\u001b[0m \u001b[1m2s\u001b[0m 23ms/step - accuracy: 0.3460 - loss: 0.7822 - val_accuracy: 0.7982 - val_loss: 0.6297\n",
            "Epoch 2/10\n",
            "\u001b[1m15/15\u001b[0m \u001b[32m━━━━━━━━━━━━━━━━━━━━\u001b[0m\u001b[37m\u001b[0m \u001b[1m0s\u001b[0m 8ms/step - accuracy: 0.7107 - loss: 0.6396 - val_accuracy: 0.8333 - val_loss: 0.5564\n",
            "Epoch 3/10\n",
            "\u001b[1m15/15\u001b[0m \u001b[32m━━━━━━━━━━━━━━━━━━━━\u001b[0m\u001b[37m\u001b[0m \u001b[1m0s\u001b[0m 7ms/step - accuracy: 0.7657 - loss: 0.6085 - val_accuracy: 0.8333 - val_loss: 0.5062\n",
            "Epoch 4/10\n",
            "\u001b[1m15/15\u001b[0m \u001b[32m━━━━━━━━━━━━━━━━━━━━\u001b[0m\u001b[37m\u001b[0m \u001b[1m0s\u001b[0m 8ms/step - accuracy: 0.7645 - loss: 0.5754 - val_accuracy: 0.8333 - val_loss: 0.4754\n",
            "Epoch 5/10\n",
            "\u001b[1m15/15\u001b[0m \u001b[32m━━━━━━━━━━━━━━━━━━━━\u001b[0m\u001b[37m\u001b[0m \u001b[1m0s\u001b[0m 8ms/step - accuracy: 0.7663 - loss: 0.5739 - val_accuracy: 0.8333 - val_loss: 0.4653\n",
            "Epoch 6/10\n",
            "\u001b[1m15/15\u001b[0m \u001b[32m━━━━━━━━━━━━━━━━━━━━\u001b[0m\u001b[37m\u001b[0m \u001b[1m0s\u001b[0m 8ms/step - accuracy: 0.7779 - loss: 0.5437 - val_accuracy: 0.8333 - val_loss: 0.4577\n",
            "Epoch 7/10\n",
            "\u001b[1m15/15\u001b[0m \u001b[32m━━━━━━━━━━━━━━━━━━━━\u001b[0m\u001b[37m\u001b[0m \u001b[1m0s\u001b[0m 8ms/step - accuracy: 0.7882 - loss: 0.5256 - val_accuracy: 0.8333 - val_loss: 0.4595\n",
            "Epoch 8/10\n",
            "\u001b[1m15/15\u001b[0m \u001b[32m━━━━━━━━━━━━━━━━━━━━\u001b[0m\u001b[37m\u001b[0m \u001b[1m0s\u001b[0m 8ms/step - accuracy: 0.7937 - loss: 0.5189 - val_accuracy: 0.8333 - val_loss: 0.4670\n",
            "Epoch 9/10\n",
            "\u001b[1m15/15\u001b[0m \u001b[32m━━━━━━━━━━━━━━━━━━━━\u001b[0m\u001b[37m\u001b[0m \u001b[1m0s\u001b[0m 9ms/step - accuracy: 0.7751 - loss: 0.5350 - val_accuracy: 0.8333 - val_loss: 0.4719\n",
            "Epoch 10/10\n",
            "\u001b[1m15/15\u001b[0m \u001b[32m━━━━━━━━━━━━━━━━━━━━\u001b[0m\u001b[37m\u001b[0m \u001b[1m0s\u001b[0m 8ms/step - accuracy: 0.7696 - loss: 0.5478 - val_accuracy: 0.8333 - val_loss: 0.4753\n"
          ]
        },
        {
          "output_type": "execute_result",
          "data": {
            "text/plain": [
              "<keras.src.callbacks.history.History at 0x7e244eb45f90>"
            ]
          },
          "metadata": {},
          "execution_count": 20
        }
      ]
    },
    {
      "cell_type": "markdown",
      "source": [
        "# ***Evaluate DL Model***\n"
      ],
      "metadata": {
        "id": "__ZDPGUiKJj3"
      }
    },
    {
      "cell_type": "code",
      "source": [
        "# Evaluate DL Model\n",
        "loss, accuracy = nn_model.evaluate(X_test, y_test)\n",
        "print(\"Neural Network Accuracy:\", accuracy)  # Display model accuracy\n"
      ],
      "metadata": {
        "colab": {
          "base_uri": "https://localhost:8080/"
        },
        "id": "47AAzXDbKEOq",
        "outputId": "ceb39b07-d244-43b7-ed78-6101a6059b09"
      },
      "execution_count": 21,
      "outputs": [
        {
          "output_type": "stream",
          "name": "stdout",
          "text": [
            "\u001b[1m4/4\u001b[0m \u001b[32m━━━━━━━━━━━━━━━━━━━━\u001b[0m\u001b[37m\u001b[0m \u001b[1m0s\u001b[0m 9ms/step - accuracy: 0.8052 - loss: 0.5098 \n",
            "Neural Network Accuracy: 0.8333333134651184\n"
          ]
        }
      ]
    },
    {
      "cell_type": "markdown",
      "source": [
        "# **Evaluate Model Performance**\n"
      ],
      "metadata": {
        "id": "QkoR-d2PvreX"
      }
    },
    {
      "cell_type": "markdown",
      "source": [
        "##### Comparision Random Forest vs Neural Network performance.\n",
        "\n",
        "\n",
        "\n",
        "| Model                  | Accuracy  |\n",
        "|------------------------|----------|\n",
        "| Random Forest Regression    | **72.8%** |\n",
        "| Neural Network        | **83%**   |\n",
        "\n",
        "\n",
        "\n",
        "Deep Learning Model performs better than Random Forest  in predicting 30 day re-admission.\n"
      ],
      "metadata": {
        "id": "JqGXDg1AvRY7"
      }
    }
  ],
  "metadata": {
    "colab": {
      "collapsed_sections": [
        "cIirbEIhGgc2"
      ],
      "gpuType": "T4",
      "provenance": [],
      "include_colab_link": true
    },
    "kernelspec": {
      "display_name": "Python 3",
      "name": "python3"
    }
  },
  "nbformat": 4,
  "nbformat_minor": 0
}